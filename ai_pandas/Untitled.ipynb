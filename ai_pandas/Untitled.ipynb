{
 "cells": [
  {
   "cell_type": "code",
   "execution_count": 1,
   "id": "5ee57f8e-a626-4134-9a0b-45ad66270d17",
   "metadata": {},
   "outputs": [],
   "source": [
    "import pandas as pd "
   ]
  },
  {
   "cell_type": "code",
   "execution_count": 2,
   "id": "fc066095-8864-4c65-b913-8c5fdef447c2",
   "metadata": {},
   "outputs": [
    {
     "name": "stdout",
     "output_type": "stream",
     "text": [
      "0    1\n",
      "1    2\n",
      "2    3\n",
      "3    4\n",
      "4    5\n",
      "dtype: int64\n"
     ]
    }
   ],
   "source": [
    "# create the one-dimensional array \n",
    "data = [1, 2, 3, 4, 5] \n",
    "  \n",
    "# create the Series \n",
    "ex1 = pd.Series(data) \n",
    "  \n",
    "# displaying the Series \n",
    "print(ex1) "
   ]
  },
  {
   "cell_type": "code",
   "execution_count": 3,
   "id": "e479a362-bfe8-4d92-8f8f-5c370d89353e",
   "metadata": {},
   "outputs": [
    {
     "name": "stdout",
     "output_type": "stream",
     "text": [
      "Pandas Series and type\n",
      "0     2\n",
      "1     4\n",
      "2     6\n",
      "3     8\n",
      "4    10\n",
      "dtype: int64\n",
      "<class 'pandas.core.series.Series'>\n",
      "Convert Pandas Series to Python list\n",
      "[2, 4, 6, 8, 10]\n",
      "<class 'list'>\n"
     ]
    }
   ],
   "source": [
    "ds = pd.Series([2, 4, 6, 8, 10])\n",
    "print(\"Pandas Series and type\")\n",
    "print(ds)\n",
    "print(type(ds))\n",
    "print(\"Convert Pandas Series to Python list\")\n",
    "print(ds.tolist())\n",
    "print(type(ds.tolist()))\n"
   ]
  },
  {
   "cell_type": "code",
   "execution_count": 5,
   "id": "edc23821-817a-435a-b5e4-8ac30d135de1",
   "metadata": {},
   "outputs": [
    {
     "name": "stdout",
     "output_type": "stream",
     "text": [
      "0     3\n",
      "1     7\n",
      "2    11\n",
      "3    15\n",
      "4    19\n",
      "dtype: int64\n",
      "0    1\n",
      "1    1\n",
      "2    1\n",
      "3    1\n",
      "4    1\n",
      "dtype: int64\n",
      "0     2\n",
      "1    12\n",
      "2    30\n",
      "3    56\n",
      "4    90\n",
      "dtype: int64\n",
      "0    2.000000\n",
      "1    1.333333\n",
      "2    1.200000\n",
      "3    1.142857\n",
      "4    1.111111\n",
      "dtype: float64\n"
     ]
    }
   ],
   "source": [
    "# creating 2 Pandas Series \n",
    "series1 = pd.Series([2,4,6,8,10]) \n",
    "series2 = pd.Series([1,3,5,7,9]) \n",
    "  \n",
    "# adding the 2 Series \n",
    "series3 = series1 + series2 \n",
    "  # displaying the result \n",
    "print(series3) \n",
    "series3 = series1 - series2 \n",
    "print(series3)\n",
    "series3 = series1 * series2 \n",
    "print(series3)\n",
    "series3 = series1 / series2\n",
    "print(series3)"
   ]
  },
  {
   "cell_type": "code",
   "execution_count": 6,
   "id": "37fb1629-88ca-43cb-b6fc-ad990e346cc9",
   "metadata": {},
   "outputs": [
    {
     "data": {
      "text/plain": [
       "g     100\n",
       "e     200\n",
       "k     400\n",
       "s     800\n",
       "n    1600\n",
       "dtype: int64"
      ]
     },
     "execution_count": 6,
     "metadata": {},
     "output_type": "execute_result"
    }
   ],
   "source": [
    "# Create a dictionary\n",
    "d = {'g' : 100, 'e' : 200,\n",
    "     'k' : 400, 's' : 800,\n",
    "     'n' : 1600}\n",
    " \n",
    "# Convert from dictionary to series\n",
    "result_series = pd.Series(d)\n",
    " \n",
    "# Print series\n",
    "result_series"
   ]
  },
  {
   "cell_type": "code",
   "execution_count": 7,
   "id": "9f131a3a-1cf8-46ee-a1ed-1c6d05fc1404",
   "metadata": {},
   "outputs": [
    {
     "name": "stdout",
     "output_type": "stream",
     "text": [
      "Numpy array is :\n"
     ]
    },
    {
     "data": {
      "text/plain": [
       "array([10, 20,  1,  2,  3,  4,  5,  6,  7])"
      ]
     },
     "metadata": {},
     "output_type": "display_data"
    },
    {
     "name": "stdout",
     "output_type": "stream",
     "text": [
      "Pandas Series : \n"
     ]
    },
    {
     "data": {
      "text/plain": [
       "0    10\n",
       "1    20\n",
       "2     1\n",
       "3     2\n",
       "4     3\n",
       "5     4\n",
       "6     5\n",
       "7     6\n",
       "8     7\n",
       "dtype: int64"
      ]
     },
     "metadata": {},
     "output_type": "display_data"
    }
   ],
   "source": [
    "import numpy as np\n",
    "\n",
    "# creating an NumPy array \n",
    "array = np.array([10, 20, 1, 2,  \n",
    "                   3, 4, 5, 6, 7]) \n",
    "  \n",
    "# displaying the NumPy array \n",
    "print(\"Numpy array is :\") \n",
    "display(array) \n",
    "  \n",
    "# converting the NumPy array  \n",
    "# to a Pandas series \n",
    "series = pd.Series(array)  \n",
    "  \n",
    "# displaying the Pandas series \n",
    "print(\"Pandas Series : \") \n",
    "display(series)"
   ]
  },
  {
   "cell_type": "code",
   "execution_count": 8,
   "id": "2eabf03b-08db-4e7d-abe3-b3807a886205",
   "metadata": {},
   "outputs": [
    {
     "name": "stdout",
     "output_type": "stream",
     "text": [
      "   srNo   Name   id\n",
      "0     1  Geeks  111\n",
      "1     2    for  222\n",
      "2     3  Geeks  333\n"
     ]
    }
   ],
   "source": [
    "# creating a DataFrame \n",
    "df = pd.DataFrame({'srNo': [1, 2, 3], \n",
    "                   'Name': ['Geeks', 'for',  \n",
    "                            'Geeks'],  \n",
    "                   'id': [111, 222,  \n",
    "                          333]}) \n",
    "# show the dataframe \n",
    "print(df) "
   ]
  },
  {
   "cell_type": "code",
   "execution_count": 9,
   "id": "f04bb5cf-fcd5-4d3e-8263-5059e15dac12",
   "metadata": {},
   "outputs": [
    {
     "name": "stdout",
     "output_type": "stream",
     "text": [
      "Original Data Series:\n",
      "0       100\n",
      "1       200\n",
      "2    python\n",
      "3    300.12\n",
      "4       400\n",
      "dtype: object\n",
      "Series to an array\n",
      "['100' '200' 'python' '300.12' '400']\n",
      "<class 'numpy.ndarray'>\n"
     ]
    }
   ],
   "source": [
    "s1 = pd.Series(['100', '200', 'python', '300.12', '400'])\n",
    "print(\"Original Data Series:\")\n",
    "print(s1)\n",
    "print(\"Series to an array\")\n",
    "a = s1.values\n",
    "print(a)\n",
    "print(type(a))"
   ]
  },
  {
   "cell_type": "code",
   "execution_count": 10,
   "id": "f9770032-6ad6-4448-b13e-1c1707069a5a",
   "metadata": {},
   "outputs": [
    {
     "name": "stdout",
     "output_type": "stream",
     "text": [
      "    X   Y   Z\n",
      "0  78  84  86\n",
      "1  85  94  97\n",
      "2  96  89  96\n",
      "3  80  83  72\n",
      "4  86  86  83\n"
     ]
    }
   ],
   "source": [
    "df = pd.DataFrame({'X':[78,85,96,80,86], 'Y':[84,94,89,83,86],'Z':[86,97,96,72,83]});\n",
    "print(df)"
   ]
  },
  {
   "cell_type": "code",
   "execution_count": null,
   "id": "c21c34a2-749e-45b8-b8ed-d7a1af2988cd",
   "metadata": {},
   "outputs": [],
   "source": []
  }
 ],
 "metadata": {
  "kernelspec": {
   "display_name": "Python 3 (ipykernel)",
   "language": "python",
   "name": "python3"
  },
  "language_info": {
   "codemirror_mode": {
    "name": "ipython",
    "version": 3
   },
   "file_extension": ".py",
   "mimetype": "text/x-python",
   "name": "python",
   "nbconvert_exporter": "python",
   "pygments_lexer": "ipython3",
   "version": "3.10.12"
  }
 },
 "nbformat": 4,
 "nbformat_minor": 5
}
