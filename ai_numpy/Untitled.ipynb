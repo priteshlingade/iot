{
 "cells": [
  {
   "cell_type": "code",
   "execution_count": 1,
   "id": "de18d8a8-4add-4646-ab40-14033b2d7917",
   "metadata": {},
   "outputs": [],
   "source": [
    "import numpy as np"
   ]
  },
  {
   "cell_type": "code",
   "execution_count": 3,
   "id": "363d8aa5-598a-45d8-9eef-1e6c16035fe7",
   "metadata": {},
   "outputs": [],
   "source": [
    "arr=np.array([1,7,13,105])"
   ]
  },
  {
   "cell_type": "code",
   "execution_count": 4,
   "id": "72c681ea-71ce-4367-a87e-eef8de53caea",
   "metadata": {},
   "outputs": [
    {
     "name": "stdout",
     "output_type": "stream",
     "text": [
      "[  1   7  13 105]\n"
     ]
    }
   ],
   "source": [
    "print(arr)"
   ]
  },
  {
   "cell_type": "code",
   "execution_count": 7,
   "id": "4a10a7f4-d8d7-45ef-8392-bbca8e6a1656",
   "metadata": {},
   "outputs": [
    {
     "name": "stdout",
     "output_type": "stream",
     "text": [
      "[0. 0. 0. 0. 0. 0. 0. 0. 0. 0.]\n",
      "[1. 1. 1. 1. 1. 1. 1. 1. 1. 1.]\n",
      "[5. 5. 5. 5. 5. 5. 5. 5. 5. 5.]\n",
      "[10. 10. 10. 10. 10. 10. 10. 10. 10. 10.]\n",
      "[20. 20. 20. 20. 20. 20. 20. 20. 20. 20.]\n",
      "[25. 25. 25. 25. 25. 25. 25. 25. 25. 25.]\n"
     ]
    }
   ],
   "source": [
    "arr1 = np.zeros(10)\n",
    "arr2 = np.ones(10)\n",
    "print(arr1)\n",
    "print(arr2)\n",
    "print(arr2*5)\n",
    "print(arr2*10)\n",
    "print(arr2*20)\n",
    "print(arr2*25)"
   ]
  },
  {
   "cell_type": "code",
   "execution_count": 10,
   "id": "72f898a8-4c49-46b0-8819-b86fbcdb9e99",
   "metadata": {},
   "outputs": [
    {
     "name": "stdout",
     "output_type": "stream",
     "text": [
      "[30 31 32 33 34 35 36 37 38 39 40 41 42 43 44 45 46 47 48 49 50 51 52 53\n",
      " 54 55 56 57 58 59 60 61 62 63 64 65 66 67 68 69 70]\n"
     ]
    }
   ],
   "source": [
    "arr3 = np.arange(30,71)\n",
    "print(arr3)"
   ]
  },
  {
   "cell_type": "code",
   "execution_count": 11,
   "id": "686da93c-e7b0-4abf-bbd0-f311fd22458b",
   "metadata": {},
   "outputs": [
    {
     "name": "stdout",
     "output_type": "stream",
     "text": [
      "[50 51 52 53 54 55 56 57 58 59 60 61 62 63 64 65 66 67 68 69 70 71 72 73\n",
      " 74 75 76 77 78 79 80 81 82 83 84 85 86 87 88 89 90 91 92 93 94 95]\n"
     ]
    }
   ],
   "source": [
    "arr4 = np.arange(50,96)\n",
    "print(arr4)"
   ]
  },
  {
   "cell_type": "code",
   "execution_count": 12,
   "id": "916c53f9-a113-49ca-97da-2d0a054f4638",
   "metadata": {},
   "outputs": [
    {
     "name": "stdout",
     "output_type": "stream",
     "text": [
      "[20 22 24 26 28 30 32 34 36 38 40 42 44 46 48 50 52 54 56 58 60 62 64 66\n",
      " 68 70 72 74 76 78]\n"
     ]
    }
   ],
   "source": [
    "arr5 = np.arange(20,80,2)\n",
    "print(arr5)"
   ]
  },
  {
   "cell_type": "code",
   "execution_count": 14,
   "id": "fe9f634c-241a-4c48-a43c-2e0a832240c8",
   "metadata": {},
   "outputs": [
    {
     "name": "stdout",
     "output_type": "stream",
     "text": [
      "[21 23 25 27 29 31 33 35 37 39 41 43 45 47 49 51 53 55 57 59 61 63 65 67\n",
      " 69 71 73 75 77 79]\n"
     ]
    }
   ],
   "source": [
    "arr6 = np.arange(21,80,2)\n",
    "print(arr6)"
   ]
  },
  {
   "cell_type": "code",
   "execution_count": 15,
   "id": "acf00493-ed61-4520-8029-1fc64d547220",
   "metadata": {},
   "outputs": [
    {
     "name": "stdout",
     "output_type": "stream",
     "text": [
      "[20 31 36 17 22 22 18 25 27 29 11 25 22 32 37]\n"
     ]
    }
   ],
   "source": [
    "arr7= np.random.randint(10,40,15)\n",
    "print(arr7)"
   ]
  },
  {
   "cell_type": "code",
   "execution_count": 16,
   "id": "5cc1e6e9-ada9-4b7d-b12b-d5bf000675ac",
   "metadata": {},
   "outputs": [
    {
     "name": "stdout",
     "output_type": "stream",
     "text": [
      "[32 32 37 38 39 30 41 45 30 49]\n"
     ]
    }
   ],
   "source": [
    "arr8= np.random.randint(30,50,10)\n",
    "print(arr8)"
   ]
  },
  {
   "cell_type": "code",
   "execution_count": 17,
   "id": "9b0b8c0b-090c-4f84-8e9e-5cc1fdf1ffd2",
   "metadata": {},
   "outputs": [
    {
     "name": "stdout",
     "output_type": "stream",
     "text": [
      "[54 78 60 59 88 87 52 63 51 57 55 60 72 56 84 70 61 82 55 65]\n"
     ]
    }
   ],
   "source": [
    "arr9= np.random.randint(50,90,20)\n",
    "print(arr9)"
   ]
  },
  {
   "cell_type": "code",
   "execution_count": 19,
   "id": "803a98a7-d0f6-4bce-a883-5d7c79229e85",
   "metadata": {},
   "outputs": [
    {
     "name": "stdout",
     "output_type": "stream",
     "text": [
      "[ 7 11 11  7  7]\n",
      "[ 6 30 30 12 10]\n",
      "[-5 -1  1 -1 -3]\n",
      "[0.16666667 0.83333333 1.2        0.75       0.4       ]\n"
     ]
    }
   ],
   "source": [
    "arr10=np.array([1,5,6,3,2])\n",
    "arr11=np.array([6,6,5,4,5])\n",
    "print(arr10+arr11)\n",
    "print(arr10*arr11)\n",
    "print(arr10-arr11)\n",
    "print(arr10/arr11)"
   ]
  },
  {
   "cell_type": "code",
   "execution_count": 27,
   "id": "ce2ec7a1-7764-43d7-b5e5-e27586915d88",
   "metadata": {},
   "outputs": [
    {
     "name": "stdout",
     "output_type": "stream",
     "text": [
      "[[10 11 12 13]\n",
      " [14 15 16 17]\n",
      " [18 19 20 21]]\n"
     ]
    }
   ],
   "source": [
    "arr12 = np.arange(10,22).reshape((3,4))\n",
    "print(arr12)"
   ]
  },
  {
   "cell_type": "code",
   "execution_count": 31,
   "id": "36405b39-c990-467b-82f3-1de544a4556d",
   "metadata": {},
   "outputs": [
    {
     "name": "stdout",
     "output_type": "stream",
     "text": [
      "[[1. 0. 0.]\n",
      " [0. 1. 0.]\n",
      " [0. 0. 1.]]\n"
     ]
    }
   ],
   "source": [
    "arr13 = np.identity(3)\n",
    "print(arr13)"
   ]
  },
  {
   "cell_type": "code",
   "execution_count": 34,
   "id": "a2eac830-63f4-4d1c-97b8-d0713412fb69",
   "metadata": {},
   "outputs": [
    {
     "name": "stdout",
     "output_type": "stream",
     "text": [
      "[[1 0 0 0 0]\n",
      " [0 2 0 0 0]\n",
      " [0 0 3 0 0]\n",
      " [0 0 0 4 0]\n",
      " [0 0 0 0 5]]\n"
     ]
    }
   ],
   "source": [
    "arr14 = np.diag([1,2,3,4,5])\n",
    "print(arr14)"
   ]
  },
  {
   "cell_type": "code",
   "execution_count": 35,
   "id": "8a7b544e-242d-46d9-b826-b1018cf94ea2",
   "metadata": {},
   "outputs": [
    {
     "name": "stdout",
     "output_type": "stream",
     "text": [
      "Rows: 2\n",
      "Columns: 3\n"
     ]
    }
   ],
   "source": [
    "matrix = np.array([[4, 3, 2], [8, 7, 6]])\n",
    "rows = matrix.shape[0]\n",
    "columns = matrix.shape[1]\n",
    " \n",
    "print(\"Rows:\", rows)\n",
    "print(\"Columns:\", columns)\n"
   ]
  },
  {
   "cell_type": "code",
   "execution_count": null,
   "id": "fe9e52b0-0f5e-492e-b4bb-e06873807b0d",
   "metadata": {},
   "outputs": [],
   "source": []
  }
 ],
 "metadata": {
  "kernelspec": {
   "display_name": "Python 3 (ipykernel)",
   "language": "python",
   "name": "python3"
  },
  "language_info": {
   "codemirror_mode": {
    "name": "ipython",
    "version": 3
   },
   "file_extension": ".py",
   "mimetype": "text/x-python",
   "name": "python",
   "nbconvert_exporter": "python",
   "pygments_lexer": "ipython3",
   "version": "3.10.12"
  }
 },
 "nbformat": 4,
 "nbformat_minor": 5
}
